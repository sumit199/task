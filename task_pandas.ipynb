{
 "cells": [
  {
   "cell_type": "code",
   "execution_count": 2,
   "metadata": {},
   "outputs": [],
   "source": [
    "import pandas as pd"
   ]
  },
  {
   "cell_type": "code",
   "execution_count": 317,
   "metadata": {},
   "outputs": [],
   "source": [
    "df=pd.read_csv(f'G:\\ineuron\\dataset\\Agent_Login_Report.csv')\n",
    "df1=pd.read_csv(f'G:\\ineuron\\dataset\\AgentPerformance.csv')"
   ]
  },
  {
   "cell_type": "code",
   "execution_count": 318,
   "metadata": {},
   "outputs": [
    {
     "data": {
      "text/html": [
       "<div>\n",
       "<style scoped>\n",
       "    .dataframe tbody tr th:only-of-type {\n",
       "        vertical-align: middle;\n",
       "    }\n",
       "\n",
       "    .dataframe tbody tr th {\n",
       "        vertical-align: top;\n",
       "    }\n",
       "\n",
       "    .dataframe thead th {\n",
       "        text-align: right;\n",
       "    }\n",
       "</style>\n",
       "<table border=\"1\" class=\"dataframe\">\n",
       "  <thead>\n",
       "    <tr style=\"text-align: right;\">\n",
       "      <th></th>\n",
       "      <th>SL No</th>\n",
       "      <th>Agent</th>\n",
       "      <th>Date</th>\n",
       "      <th>Login Time</th>\n",
       "      <th>Logout Time</th>\n",
       "      <th>Duration</th>\n",
       "    </tr>\n",
       "  </thead>\n",
       "  <tbody>\n",
       "    <tr>\n",
       "      <td>0</td>\n",
       "      <td>1</td>\n",
       "      <td>Shivananda Sonwane</td>\n",
       "      <td>30-Jul-22</td>\n",
       "      <td>3:35:29 PM</td>\n",
       "      <td>5:39:39 PM</td>\n",
       "      <td>2:04:10</td>\n",
       "    </tr>\n",
       "    <tr>\n",
       "      <td>1</td>\n",
       "      <td>2</td>\n",
       "      <td>Khushboo Priya</td>\n",
       "      <td>30-Jul-22</td>\n",
       "      <td>3:06:59 PM</td>\n",
       "      <td>3:07:16 PM</td>\n",
       "      <td>0:00:17</td>\n",
       "    </tr>\n",
       "    <tr>\n",
       "      <td>2</td>\n",
       "      <td>3</td>\n",
       "      <td>Nandani Gupta</td>\n",
       "      <td>30-Jul-22</td>\n",
       "      <td>3:04:24 PM</td>\n",
       "      <td>5:31:07 PM</td>\n",
       "      <td>2:26:42</td>\n",
       "    </tr>\n",
       "    <tr>\n",
       "      <td>3</td>\n",
       "      <td>4</td>\n",
       "      <td>Hrisikesh Neogi</td>\n",
       "      <td>30-Jul-22</td>\n",
       "      <td>2:34:29 PM</td>\n",
       "      <td>3:19:35 PM</td>\n",
       "      <td>0:45:06</td>\n",
       "    </tr>\n",
       "    <tr>\n",
       "      <td>4</td>\n",
       "      <td>5</td>\n",
       "      <td>Mukesh</td>\n",
       "      <td>30-Jul-22</td>\n",
       "      <td>2:03:15 PM</td>\n",
       "      <td>3:11:52 PM</td>\n",
       "      <td>1:08:36</td>\n",
       "    </tr>\n",
       "  </tbody>\n",
       "</table>\n",
       "</div>"
      ],
      "text/plain": [
       "   SL No               Agent       Date  Login Time Logout Time Duration\n",
       "0      1  Shivananda Sonwane  30-Jul-22  3:35:29 PM  5:39:39 PM  2:04:10\n",
       "1      2      Khushboo Priya  30-Jul-22  3:06:59 PM  3:07:16 PM  0:00:17\n",
       "2      3       Nandani Gupta  30-Jul-22  3:04:24 PM  5:31:07 PM  2:26:42\n",
       "3      4     Hrisikesh Neogi  30-Jul-22  2:34:29 PM  3:19:35 PM  0:45:06\n",
       "4      5             Mukesh   30-Jul-22  2:03:15 PM  3:11:52 PM  1:08:36"
      ]
     },
     "execution_count": 318,
     "metadata": {},
     "output_type": "execute_result"
    }
   ],
   "source": [
    "df.head()"
   ]
  },
  {
   "cell_type": "code",
   "execution_count": 319,
   "metadata": {},
   "outputs": [
    {
     "data": {
      "text/plain": [
       "SL No           int64\n",
       "Agent          object\n",
       "Date           object\n",
       "Login Time     object\n",
       "Logout Time    object\n",
       "Duration       object\n",
       "dtype: object"
      ]
     },
     "execution_count": 319,
     "metadata": {},
     "output_type": "execute_result"
    }
   ],
   "source": [
    "df.dtypes"
   ]
  },
  {
   "cell_type": "code",
   "execution_count": 320,
   "metadata": {},
   "outputs": [
    {
     "data": {
      "text/html": [
       "<div>\n",
       "<style scoped>\n",
       "    .dataframe tbody tr th:only-of-type {\n",
       "        vertical-align: middle;\n",
       "    }\n",
       "\n",
       "    .dataframe tbody tr th {\n",
       "        vertical-align: top;\n",
       "    }\n",
       "\n",
       "    .dataframe thead th {\n",
       "        text-align: right;\n",
       "    }\n",
       "</style>\n",
       "<table border=\"1\" class=\"dataframe\">\n",
       "  <thead>\n",
       "    <tr style=\"text-align: right;\">\n",
       "      <th></th>\n",
       "      <th>SL No</th>\n",
       "      <th>Date</th>\n",
       "      <th>Agent Name</th>\n",
       "      <th>Total Chats</th>\n",
       "      <th>Average Response Time</th>\n",
       "      <th>Average Resolution Time</th>\n",
       "      <th>Average Rating</th>\n",
       "      <th>Total Feedback</th>\n",
       "    </tr>\n",
       "  </thead>\n",
       "  <tbody>\n",
       "    <tr>\n",
       "      <td>0</td>\n",
       "      <td>1</td>\n",
       "      <td>2022-07-30</td>\n",
       "      <td>Prerna Singh</td>\n",
       "      <td>11</td>\n",
       "      <td>00:00:38</td>\n",
       "      <td>00:04:20</td>\n",
       "      <td>4.11</td>\n",
       "      <td>9</td>\n",
       "    </tr>\n",
       "    <tr>\n",
       "      <td>1</td>\n",
       "      <td>2</td>\n",
       "      <td>2022-07-30</td>\n",
       "      <td>Nandani Gupta</td>\n",
       "      <td>11</td>\n",
       "      <td>00:01:15</td>\n",
       "      <td>00:28:25</td>\n",
       "      <td>3.14</td>\n",
       "      <td>7</td>\n",
       "    </tr>\n",
       "    <tr>\n",
       "      <td>2</td>\n",
       "      <td>3</td>\n",
       "      <td>2022-07-30</td>\n",
       "      <td>Ameya Jain</td>\n",
       "      <td>14</td>\n",
       "      <td>00:00:30</td>\n",
       "      <td>00:11:36</td>\n",
       "      <td>4.55</td>\n",
       "      <td>11</td>\n",
       "    </tr>\n",
       "    <tr>\n",
       "      <td>3</td>\n",
       "      <td>4</td>\n",
       "      <td>2022-07-30</td>\n",
       "      <td>Mahesh Sarade</td>\n",
       "      <td>14</td>\n",
       "      <td>00:01:04</td>\n",
       "      <td>00:15:46</td>\n",
       "      <td>4.71</td>\n",
       "      <td>7</td>\n",
       "    </tr>\n",
       "    <tr>\n",
       "      <td>4</td>\n",
       "      <td>5</td>\n",
       "      <td>2022-07-30</td>\n",
       "      <td>Swati</td>\n",
       "      <td>14</td>\n",
       "      <td>00:01:11</td>\n",
       "      <td>00:16:33</td>\n",
       "      <td>3.67</td>\n",
       "      <td>6</td>\n",
       "    </tr>\n",
       "  </tbody>\n",
       "</table>\n",
       "</div>"
      ],
      "text/plain": [
       "   SL No        Date     Agent Name  Total Chats Average Response Time  \\\n",
       "0      1  2022-07-30   Prerna Singh           11              00:00:38   \n",
       "1      2  2022-07-30  Nandani Gupta           11              00:01:15   \n",
       "2      3  2022-07-30     Ameya Jain           14              00:00:30   \n",
       "3      4  2022-07-30  Mahesh Sarade           14              00:01:04   \n",
       "4      5  2022-07-30         Swati            14              00:01:11   \n",
       "\n",
       "  Average Resolution Time  Average Rating  Total Feedback  \n",
       "0                00:04:20            4.11               9  \n",
       "1                00:28:25            3.14               7  \n",
       "2                00:11:36            4.55              11  \n",
       "3                00:15:46            4.71               7  \n",
       "4                00:16:33            3.67               6  "
      ]
     },
     "execution_count": 320,
     "metadata": {},
     "output_type": "execute_result"
    }
   ],
   "source": [
    "df1.head()"
   ]
  },
  {
   "cell_type": "code",
   "execution_count": 321,
   "metadata": {},
   "outputs": [
    {
     "data": {
      "text/plain": [
       "SL No                        int64\n",
       "Date                        object\n",
       "Agent Name                  object\n",
       "Total Chats                  int64\n",
       "Average Response Time       object\n",
       "Average Resolution Time     object\n",
       "Average Rating             float64\n",
       "Total Feedback               int64\n",
       "dtype: object"
      ]
     },
     "execution_count": 321,
     "metadata": {},
     "output_type": "execute_result"
    }
   ],
   "source": [
    "df1.dtypes"
   ]
  },
  {
   "cell_type": "code",
   "execution_count": null,
   "metadata": {},
   "outputs": [],
   "source": []
  },
  {
   "cell_type": "markdown",
   "metadata": {},
   "source": [
    "1 .Find out there avarage rating on weekly basis keep this in a mind that they take two days of leave"
   ]
  },
  {
   "cell_type": "code",
   "execution_count": 322,
   "metadata": {},
   "outputs": [],
   "source": [
    "df1['Date']=pd.to_datetime(df1['Date'])   #conver to datetime format"
   ]
  },
  {
   "cell_type": "code",
   "execution_count": 323,
   "metadata": {},
   "outputs": [],
   "source": [
    "df1['week']=df1['Date'].dt.week    #get week from Date"
   ]
  },
  {
   "cell_type": "code",
   "execution_count": 324,
   "metadata": {},
   "outputs": [
    {
     "data": {
      "text/plain": [
       "week\n",
       "26    0.998704\n",
       "27    1.386647\n",
       "28    1.548492\n",
       "29    1.511389\n",
       "30    1.617847\n",
       "Name: Average Rating, dtype: float64"
      ]
     },
     "execution_count": 324,
     "metadata": {},
     "output_type": "execute_result"
    }
   ],
   "source": [
    "df1.groupby('week')['Average Rating'].mean()"
   ]
  },
  {
   "cell_type": "markdown",
   "metadata": {},
   "source": [
    "2 .Total working days for each agents "
   ]
  },
  {
   "cell_type": "code",
   "execution_count": 326,
   "metadata": {},
   "outputs": [
    {
     "data": {
      "text/plain": [
       "Agent\n",
       "Aditya Shinde              1\n",
       "Aditya_iot                 8\n",
       "Amersh                     2\n",
       "Ameya Jain                 7\n",
       "Ankitjha                   2\n",
       "Anurag Tiwari             10\n",
       "Aravind                    7\n",
       "Ayushi Mishra              9\n",
       "Bharath                    8\n",
       "Boktiar Ahmed Bappy        9\n",
       "Chaitra K Hiremath         7\n",
       "Deepranjan Gupta          10\n",
       "Dibyanshu                  9\n",
       "Harikrishnan Shaji         9\n",
       "Hrisikesh Neogi            9\n",
       "Hyder Abbas                2\n",
       "Ineuron Intelligence       1\n",
       "Ishawant Kumar            11\n",
       "Jawala Prakash             9\n",
       "Jaydeep Dixit              7\n",
       "Khushboo Priya             8\n",
       "Madhulika G                8\n",
       "Mahesh Sarade              8\n",
       "Maitry                     5\n",
       "Manjunatha A               7\n",
       "Mithun S                   8\n",
       "Mukesh                     2\n",
       "Muskan Garg                6\n",
       "Nandani Gupta              9\n",
       "Nishtha Jain               8\n",
       "Nitin M                    1\n",
       "Prabir Kumar Satapathy     7\n",
       "Prateek _iot              11\n",
       "Prerna Singh               9\n",
       "Rishav Dash                7\n",
       "Saikumarreddy N            7\n",
       "Sanjeev Kumar              9\n",
       "Saurabh Shukla             4\n",
       "Shiva Srivastava           8\n",
       "Shivan K                   8\n",
       "Shivananda Sonwane        10\n",
       "Shubham Sharma            11\n",
       "Sowmiya Sivakumar          8\n",
       "Sudhanshu Kumar            6\n",
       "Suraj S Bilgi              2\n",
       "Swati                      4\n",
       "Tarun                      1\n",
       "Wasim                      9\n",
       "Zeeshan                    9\n",
       "Name: Date, dtype: int64"
      ]
     },
     "execution_count": 326,
     "metadata": {},
     "output_type": "execute_result"
    }
   ],
   "source": [
    "df.groupby('Agent')['Date'].nunique()"
   ]
  },
  {
   "cell_type": "markdown",
   "metadata": {},
   "source": [
    "3. Total query that you have taken "
   ]
  },
  {
   "cell_type": "code",
   "execution_count": 258,
   "metadata": {},
   "outputs": [
    {
     "data": {
      "text/plain": [
       "Agent Name\n",
       "Abhishek           0\n",
       "Aditya             0\n",
       "Aditya Shinde    277\n",
       "Aditya_iot       231\n",
       "Amersh             0\n",
       "                ... \n",
       "Uday Mishra        0\n",
       "Vasanth P          0\n",
       "Vivek             44\n",
       "Wasim            433\n",
       "Zeeshan          542\n",
       "Name: Total Chats, Length: 70, dtype: int64"
      ]
     },
     "execution_count": 258,
     "metadata": {},
     "output_type": "execute_result"
    }
   ],
   "source": [
    "df1.groupby('Agent Name')['Total Chats'].sum()"
   ]
  },
  {
   "cell_type": "markdown",
   "metadata": {},
   "source": [
    "4. total Feedback that you have received "
   ]
  },
  {
   "cell_type": "code",
   "execution_count": 259,
   "metadata": {},
   "outputs": [
    {
     "data": {
      "text/plain": [
       "Agent Name\n",
       "Abhishek           0\n",
       "Aditya             0\n",
       "Aditya Shinde    153\n",
       "Aditya_iot       131\n",
       "Amersh             0\n",
       "                ... \n",
       "Uday Mishra        0\n",
       "Vasanth P          0\n",
       "Vivek             20\n",
       "Wasim            284\n",
       "Zeeshan          335\n",
       "Name: Total Feedback, Length: 70, dtype: int64"
      ]
     },
     "execution_count": 259,
     "metadata": {},
     "output_type": "execute_result"
    }
   ],
   "source": [
    "df1.groupby('Agent Name')['Total Feedback'].sum()"
   ]
  },
  {
   "cell_type": "markdown",
   "metadata": {},
   "source": [
    "5. a agent name who have average rating between 3.5 to 4 "
   ]
  },
  {
   "cell_type": "code",
   "execution_count": 260,
   "metadata": {},
   "outputs": [],
   "source": [
    "#calculated mean rating from average rating for each agent\n",
    "df1['mean_rating'] = (\n",
    "      df1.groupby('Agent Name')['Average Rating'].transform('mean')\n",
    "   )"
   ]
  },
  {
   "cell_type": "code",
   "execution_count": 261,
   "metadata": {},
   "outputs": [
    {
     "data": {
      "text/plain": [
       "array(['Manjunatha A', 'Khushboo Priya', 'Boktiar Ahmed Bappy',\n",
       "       'Ishawant Kumar'], dtype=object)"
      ]
     },
     "execution_count": 261,
     "metadata": {},
     "output_type": "execute_result"
    }
   ],
   "source": [
    "d=df1[(df1['mean_rating']>3.5)&(df1['mean_rating']<4)]['Agent Name']\n",
    "d.unique()"
   ]
  },
  {
   "cell_type": "markdown",
   "metadata": {},
   "source": [
    "6 . Agent name who have rating lesss then 3.5 "
   ]
  },
  {
   "cell_type": "code",
   "execution_count": 262,
   "metadata": {},
   "outputs": [
    {
     "data": {
      "text/plain": [
       "array(['Manjunatha A', 'Khushboo Priya', 'Boktiar Ahmed Bappy',\n",
       "       'Shivananda Sonwane', 'Ishawant Kumar'], dtype=object)"
      ]
     },
     "execution_count": 262,
     "metadata": {},
     "output_type": "execute_result"
    }
   ],
   "source": [
    "d=df1[df1['mean_rating']>3.5]['Agent Name']\n",
    "d.unique()"
   ]
  },
  {
   "cell_type": "markdown",
   "metadata": {},
   "source": [
    "7 . agent name who have rating more then 4.5 "
   ]
  },
  {
   "cell_type": "code",
   "execution_count": 263,
   "metadata": {},
   "outputs": [
    {
     "data": {
      "text/plain": [
       "array([], dtype=object)"
      ]
     },
     "execution_count": 263,
     "metadata": {},
     "output_type": "execute_result"
    }
   ],
   "source": [
    "d=df1[df1['mean_rating']>4.5]['Agent Name']\n",
    "d.unique()#No one"
   ]
  },
  {
   "cell_type": "markdown",
   "metadata": {},
   "source": [
    "8 . how many feedaback agents have received more then 4.5 average"
   ]
  },
  {
   "cell_type": "code",
   "execution_count": 264,
   "metadata": {},
   "outputs": [],
   "source": [
    "##calculated mean feedback from total feedback for each agent\n",
    "df1['feedback_average']=df1.groupby('Agent Name')['Total Feedback'].transform('mean')"
   ]
  },
  {
   "cell_type": "code",
   "execution_count": 266,
   "metadata": {},
   "outputs": [
    {
     "data": {
      "text/plain": [
       "array(['Prerna Singh', 'Nandani Gupta', 'Ameya Jain', 'Mahesh Sarade',\n",
       "       'Swati ', 'Saikumarreddy N', 'Sanjeev Kumar', 'Shubham Sharma',\n",
       "       'Nishtha Jain', 'Manjunatha A', 'Khushboo Priya',\n",
       "       'Harikrishnan Shaji', 'Hrisikesh Neogi', 'Shivan K',\n",
       "       'Sowmiya Sivakumar', 'Madhulika G', 'Mithun S', 'Aditya Shinde',\n",
       "       'Prabir Kumar Satapathy', 'Wasim ', 'Maitry ', 'Aravind ',\n",
       "       'Bharath ', 'Zeeshan ', 'Jaydeep Dixit', 'Ayushi Mishra',\n",
       "       'Boktiar Ahmed Bappy', 'Shivananda Sonwane', 'Ishawant Kumar',\n",
       "       'Deepranjan Gupta', 'Jawala Prakash'], dtype=object)"
      ]
     },
     "execution_count": 266,
     "metadata": {},
     "output_type": "execute_result"
    }
   ],
   "source": [
    "d=df1[df1['feedback_average']>4.5]['Agent Name']\n",
    "d.unique()"
   ]
  },
  {
   "cell_type": "markdown",
   "metadata": {},
   "source": [
    "9 . average weekly response time for each agent "
   ]
  },
  {
   "cell_type": "code",
   "execution_count": null,
   "metadata": {},
   "outputs": [],
   "source": [
    "#not done "
   ]
  },
  {
   "cell_type": "markdown",
   "metadata": {},
   "source": [
    "10 . average weekely resolution time for each agents "
   ]
  },
  {
   "cell_type": "code",
   "execution_count": null,
   "metadata": {},
   "outputs": [],
   "source": [
    "#not done"
   ]
  },
  {
   "cell_type": "markdown",
   "metadata": {},
   "source": [
    "11 . list of all agents name "
   ]
  },
  {
   "cell_type": "code",
   "execution_count": 304,
   "metadata": {},
   "outputs": [
    {
     "data": {
      "text/plain": [
       "array(['Shivananda Sonwane', 'Khushboo Priya', 'Nandani Gupta',\n",
       "       'Hrisikesh Neogi', 'Mukesh ', 'Sowmiya Sivakumar', 'Manjunatha A',\n",
       "       'Harikrishnan Shaji', 'Suraj S Bilgi', 'Shivan K', 'Anurag Tiwari',\n",
       "       'Ishawant Kumar', 'Shubham Sharma', 'Prerna Singh', 'Nishtha Jain',\n",
       "       'Prateek _iot ', 'Mithun S', 'Madhulika G', 'Boktiar Ahmed Bappy',\n",
       "       'Jawala Prakash', 'Dibyanshu ', 'Deepranjan Gupta',\n",
       "       'Jaydeep Dixit', 'Ayushi Mishra', 'Mahesh Sarade', 'Muskan Garg',\n",
       "       'Chaitra K Hiremath', 'Shiva Srivastava', 'Aditya_iot ',\n",
       "       'Prabir Kumar Satapathy', 'Sanjeev Kumar', 'Zeeshan ',\n",
       "       'Rishav Dash', 'Wasim ', 'Bharath ', 'Ameya Jain',\n",
       "       'Saikumarreddy N', 'Aravind ', 'Amersh ', 'Sudhanshu Kumar',\n",
       "       'Ankitjha ', 'Maitry ', 'Aditya Shinde', 'Hyder Abbas', 'Swati ',\n",
       "       'Saurabh Shukla', 'Nitin M', 'Ineuron Intelligence ', 'Tarun '],\n",
       "      dtype=object)"
      ]
     },
     "execution_count": 304,
     "metadata": {},
     "output_type": "execute_result"
    }
   ],
   "source": [
    "df['Agent'].unique()"
   ]
  },
  {
   "cell_type": "markdown",
   "metadata": {},
   "source": [
    "12 . percentage of chat on which they have received a feedback "
   ]
  },
  {
   "cell_type": "code",
   "execution_count": null,
   "metadata": {},
   "outputs": [],
   "source": [
    "#not done"
   ]
  },
  {
   "cell_type": "markdown",
   "metadata": {},
   "source": [
    "13 . Total contributation hour for each and every agents weekly basis "
   ]
  },
  {
   "cell_type": "code",
   "execution_count": 306,
   "metadata": {},
   "outputs": [],
   "source": [
    "df['Date']=pd.to_datetime(df['Date'])\n",
    "df['week']=df['Date'].dt.week"
   ]
  },
  {
   "cell_type": "code",
   "execution_count": 312,
   "metadata": {},
   "outputs": [],
   "source": [
    "df['Duration']=pd.to_timedelta(df['Duration'])"
   ]
  },
  {
   "cell_type": "code",
   "execution_count": 314,
   "metadata": {},
   "outputs": [
    {
     "data": {
      "text/plain": [
       "Agent          week\n",
       "Aditya Shinde  30      0 days 00:02:10\n",
       "Aditya_iot     29      0 days 06:05:43\n",
       "               30      0 days 09:38:09\n",
       "Amersh         30      0 days 03:03:50\n",
       "Ameya Jain     29      1 days 00:04:59\n",
       "                            ...       \n",
       "Tarun          26     21 days 10:08:20\n",
       "Wasim          29      0 days 19:37:32\n",
       "               30      1 days 04:33:13\n",
       "Zeeshan        29      1 days 00:25:39\n",
       "               30      1 days 00:39:40\n",
       "Name: Duration, Length: 89, dtype: timedelta64[ns]"
      ]
     },
     "execution_count": 314,
     "metadata": {},
     "output_type": "execute_result"
    }
   ],
   "source": [
    "df.groupby(['Agent','week'])['Duration'].sum()"
   ]
  },
  {
   "cell_type": "markdown",
   "metadata": {},
   "source": [
    "14. total percentage of active hour for a month "
   ]
  },
  {
   "cell_type": "code",
   "execution_count": null,
   "metadata": {},
   "outputs": [],
   "source": [
    "#not done"
   ]
  }
 ],
 "metadata": {
  "kernelspec": {
   "display_name": "Python 3",
   "language": "python",
   "name": "python3"
  },
  "language_info": {
   "codemirror_mode": {
    "name": "ipython",
    "version": 3
   },
   "file_extension": ".py",
   "mimetype": "text/x-python",
   "name": "python",
   "nbconvert_exporter": "python",
   "pygments_lexer": "ipython3",
   "version": "3.7.4"
  }
 },
 "nbformat": 4,
 "nbformat_minor": 2
}
